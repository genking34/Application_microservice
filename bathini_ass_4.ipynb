{
  "nbformat": 4,
  "nbformat_minor": 0,
  "metadata": {
    "colab": {
      "provenance": []
    },
    "kernelspec": {
      "name": "python3",
      "display_name": "Python 3"
    },
    "language_info": {
      "name": "python"
    }
  },
  "cells": [
    {
      "cell_type": "code",
      "source": [
        "# Importing required libraries\n",
        "import pandas as pd  # For data manipulation and analysis\n",
        "import numpy as np  # For numerical computations\n",
        "import torch  # PyTorch library for building and training the neural network\n",
        "import torch.nn as nn  # For defining neural network modules\n",
        "from torch.utils.data import Dataset, DataLoader, random_split  # For dataset handling\n",
        "from sklearn.preprocessing import MinMaxScaler  # For normalizing data\n",
        "from sklearn.model_selection import train_test_split  # For splitting data into train and test sets\n",
        "from sklearn.metrics import mean_absolute_error, r2_score  # For evaluating model performance"
      ],
      "metadata": {
        "id": "d9jQiAkdn3Tq"
      },
      "execution_count": 1,
      "outputs": []
    },
    {
      "cell_type": "code",
      "source": [
        "# # Load the dataset directly from a URL\n",
        "# url = \"https://raw.githubusercontent.com/jbrownlee/Datasets/master/concrete.csv\"\n",
        "# data = pd.read_csv(url)\n",
        "\n",
        "\n",
        "import pandas as pd\n",
        "\n",
        "# Load the dataset from the UCI Machine Learning Repository\n",
        "url = \"https://archive.ics.uci.edu/ml/machine-learning-databases/concrete/compressive/Concrete_Data.xls\"\n",
        "data = pd.read_excel(url)\n",
        "\n",
        "# Display the first few rows\n",
        "print(data.head())\n"
      ],
      "metadata": {
        "colab": {
          "base_uri": "https://localhost:8080/"
        },
        "id": "NWgGkiTLn5-K",
        "outputId": "a168a851-74bc-4a12-b894-1025f8fad0cd"
      },
      "execution_count": 2,
      "outputs": [
        {
          "output_type": "stream",
          "name": "stdout",
          "text": [
            "   Cement (component 1)(kg in a m^3 mixture)  \\\n",
            "0                                      540.0   \n",
            "1                                      540.0   \n",
            "2                                      332.5   \n",
            "3                                      332.5   \n",
            "4                                      198.6   \n",
            "\n",
            "   Blast Furnace Slag (component 2)(kg in a m^3 mixture)  \\\n",
            "0                                                0.0       \n",
            "1                                                0.0       \n",
            "2                                              142.5       \n",
            "3                                              142.5       \n",
            "4                                              132.4       \n",
            "\n",
            "   Fly Ash (component 3)(kg in a m^3 mixture)  \\\n",
            "0                                         0.0   \n",
            "1                                         0.0   \n",
            "2                                         0.0   \n",
            "3                                         0.0   \n",
            "4                                         0.0   \n",
            "\n",
            "   Water  (component 4)(kg in a m^3 mixture)  \\\n",
            "0                                      162.0   \n",
            "1                                      162.0   \n",
            "2                                      228.0   \n",
            "3                                      228.0   \n",
            "4                                      192.0   \n",
            "\n",
            "   Superplasticizer (component 5)(kg in a m^3 mixture)  \\\n",
            "0                                                2.5     \n",
            "1                                                2.5     \n",
            "2                                                0.0     \n",
            "3                                                0.0     \n",
            "4                                                0.0     \n",
            "\n",
            "   Coarse Aggregate  (component 6)(kg in a m^3 mixture)  \\\n",
            "0                                             1040.0      \n",
            "1                                             1055.0      \n",
            "2                                              932.0      \n",
            "3                                              932.0      \n",
            "4                                              978.4      \n",
            "\n",
            "   Fine Aggregate (component 7)(kg in a m^3 mixture)  Age (day)  \\\n",
            "0                                              676.0         28   \n",
            "1                                              676.0         28   \n",
            "2                                              594.0        270   \n",
            "3                                              594.0        365   \n",
            "4                                              825.5        360   \n",
            "\n",
            "   Concrete compressive strength(MPa, megapascals)   \n",
            "0                                         79.986111  \n",
            "1                                         61.887366  \n",
            "2                                         40.269535  \n",
            "3                                         41.052780  \n",
            "4                                         44.296075  \n"
          ]
        }
      ]
    },
    {
      "cell_type": "code",
      "source": [],
      "metadata": {
        "id": "2kTEKAbWoZkX"
      },
      "execution_count": null,
      "outputs": []
    },
    {
      "cell_type": "code",
      "source": [
        "# Display the first few rows of the dataset for inspection\n",
        "print(data.head())\n",
        "\n",
        "# Define features (inputs) and target (output)\n",
        "X = data.iloc[:, :-1].values  # Select all columns except the last one as features\n",
        "y = data.iloc[:, -1].values   # Select the last column as the target (compressive strength)\n",
        "\n",
        "# Normalize the feature data to a range of [0, 1] using Min-Max Scaling\n",
        "scaler = MinMaxScaler()\n",
        "X_scaled = scaler.fit_transform(X)\n",
        "\n",
        "# Convert the features and target into PyTorch tensors for model training\n",
        "X_tensor = torch.tensor(X_scaled, dtype=torch.float32)  # Features as float tensors\n",
        "y_tensor = torch.tensor(y, dtype=torch.float32).unsqueeze(1)  # Target as float tensors (unsqueeze adds a dimension)\n",
        "\n",
        "# Split the dataset into training and testing sets using an 80-20 split\n",
        "dataset = torch.utils.data.TensorDataset(X_tensor, y_tensor)  # Combine features and target into a single dataset\n",
        "train_size = int(0.8 * len(dataset))  # Calculate the size of the training set\n",
        "test_size = len(dataset) - train_size  # Calculate the size of the testing set\n",
        "train_dataset, test_dataset = random_split(dataset, [train_size, test_size])  # Perform the split\n",
        "\n",
        "# Create data loaders for batch processing during training and testing\n",
        "batch_size = 32  # Number of samples per batch\n",
        "train_loader = DataLoader(train_dataset, batch_size=batch_size, shuffle=True)  # Shuffle training data for randomness\n",
        "test_loader = DataLoader(test_dataset, batch_size=batch_size)  # No need to shuffle test data\n",
        "\n"
      ],
      "metadata": {
        "colab": {
          "base_uri": "https://localhost:8080/"
        },
        "id": "mjyVO3Y6n8Z_",
        "outputId": "5381789e-d269-479c-ad29-dafcfeb370a8"
      },
      "execution_count": 3,
      "outputs": [
        {
          "output_type": "stream",
          "name": "stdout",
          "text": [
            "   Cement (component 1)(kg in a m^3 mixture)  \\\n",
            "0                                      540.0   \n",
            "1                                      540.0   \n",
            "2                                      332.5   \n",
            "3                                      332.5   \n",
            "4                                      198.6   \n",
            "\n",
            "   Blast Furnace Slag (component 2)(kg in a m^3 mixture)  \\\n",
            "0                                                0.0       \n",
            "1                                                0.0       \n",
            "2                                              142.5       \n",
            "3                                              142.5       \n",
            "4                                              132.4       \n",
            "\n",
            "   Fly Ash (component 3)(kg in a m^3 mixture)  \\\n",
            "0                                         0.0   \n",
            "1                                         0.0   \n",
            "2                                         0.0   \n",
            "3                                         0.0   \n",
            "4                                         0.0   \n",
            "\n",
            "   Water  (component 4)(kg in a m^3 mixture)  \\\n",
            "0                                      162.0   \n",
            "1                                      162.0   \n",
            "2                                      228.0   \n",
            "3                                      228.0   \n",
            "4                                      192.0   \n",
            "\n",
            "   Superplasticizer (component 5)(kg in a m^3 mixture)  \\\n",
            "0                                                2.5     \n",
            "1                                                2.5     \n",
            "2                                                0.0     \n",
            "3                                                0.0     \n",
            "4                                                0.0     \n",
            "\n",
            "   Coarse Aggregate  (component 6)(kg in a m^3 mixture)  \\\n",
            "0                                             1040.0      \n",
            "1                                             1055.0      \n",
            "2                                              932.0      \n",
            "3                                              932.0      \n",
            "4                                              978.4      \n",
            "\n",
            "   Fine Aggregate (component 7)(kg in a m^3 mixture)  Age (day)  \\\n",
            "0                                              676.0         28   \n",
            "1                                              676.0         28   \n",
            "2                                              594.0        270   \n",
            "3                                              594.0        365   \n",
            "4                                              825.5        360   \n",
            "\n",
            "   Concrete compressive strength(MPa, megapascals)   \n",
            "0                                         79.986111  \n",
            "1                                         61.887366  \n",
            "2                                         40.269535  \n",
            "3                                         41.052780  \n",
            "4                                         44.296075  \n"
          ]
        }
      ]
    },
    {
      "cell_type": "code",
      "execution_count": 4,
      "metadata": {
        "id": "MFPJkDnKnzcb"
      },
      "outputs": [],
      "source": [
        "\n",
        "# Define the neural network model for regression\n",
        "class RegressionModel(nn.Module):\n",
        "    def __init__(self, input_dim):\n",
        "        \"\"\"\n",
        "        Initialize the regression model with fully connected layers and ReLU activation.\n",
        "        Args:\n",
        "            input_dim: Number of input features\n",
        "        \"\"\"\n",
        "        super(RegressionModel, self).__init__()  # Initialize the parent class\n",
        "        self.fc = nn.Sequential(  # Define the model architecture\n",
        "            nn.Linear(input_dim, 64),  # First layer with 64 neurons\n",
        "            nn.ReLU(),  # Activation function\n",
        "            nn.Linear(64, 32),  # Second layer with 32 neurons\n",
        "            nn.ReLU(),  # Activation function\n",
        "            nn.Linear(32, 1)  # Output layer with a single neuron for regression\n",
        "        )\n",
        "\n",
        "    def forward(self, x):\n",
        "        \"\"\"\n",
        "        Forward pass of the model.\n",
        "        Args:\n",
        "            x: Input tensor\n",
        "        Returns:\n",
        "            Output tensor\n",
        "        \"\"\"\n",
        "        return self.fc(x)  # Pass input through the defined layers\n"
      ]
    },
    {
      "cell_type": "code",
      "source": [
        "\n",
        "# Initialize the model, loss function, and optimizer\n",
        "input_dim = X_tensor.shape[1]  # Determine the number of input features\n",
        "model = RegressionModel(input_dim)  # Create an instance of the model\n",
        "criterion = nn.MSELoss()  # Mean Squared Error loss for regression\n",
        "# optimizer = torch.optim.Adam(model.parameters(), lr=0.01)  # Adam optimizer with a learning rate of 0.01\n",
        "optimizer = torch.optim.Adam(model.parameters(), lr=0.01, weight_decay=1e-4)\n",
        "\n",
        "\n"
      ],
      "metadata": {
        "id": "dFxIlQnoouLh"
      },
      "execution_count": 6,
      "outputs": []
    },
    {
      "cell_type": "code",
      "source": [
        "# Train the model for a specified number of epochs\n",
        "num_epochs = 60  # Number of iterations over the entire dataset\n",
        "for epoch in range(num_epochs):\n",
        "    model.train()  # Set the model to training mode\n",
        "    epoch_loss = 0  # Initialize epoch loss\n",
        "    for inputs, targets in train_loader:  # Loop over each batch of data\n",
        "        optimizer.zero_grad()  # Clear gradients from the previous step\n",
        "        outputs = model(inputs)  # Perform a forward pass\n",
        "        loss = criterion(outputs, targets)  # Calculate the loss\n",
        "        loss.backward()  # Backpropagate the gradients\n",
        "        optimizer.step()  # Update the model parameters\n",
        "        epoch_loss += loss.item()  # Accumulate the loss for the epoch\n",
        "\n",
        "    # Print the average loss for the epoch\n",
        "    print(f\"Epoch [{epoch+1}/{num_epochs}], Loss: {epoch_loss/len(train_loader):.4f}\")\n",
        "\n"
      ],
      "metadata": {
        "colab": {
          "base_uri": "https://localhost:8080/"
        },
        "id": "5DEL-kyUow8F",
        "outputId": "c8bbbadf-9a71-4849-a776-d4fcc82328c8"
      },
      "execution_count": 7,
      "outputs": [
        {
          "output_type": "stream",
          "name": "stdout",
          "text": [
            "Epoch [1/60], Loss: 994.6699\n",
            "Epoch [2/60], Loss: 266.6437\n",
            "Epoch [3/60], Loss: 188.4630\n",
            "Epoch [4/60], Loss: 148.6230\n",
            "Epoch [5/60], Loss: 127.6841\n",
            "Epoch [6/60], Loss: 119.7294\n",
            "Epoch [7/60], Loss: 119.2075\n",
            "Epoch [8/60], Loss: 117.4699\n",
            "Epoch [9/60], Loss: 115.1683\n",
            "Epoch [10/60], Loss: 114.0657\n",
            "Epoch [11/60], Loss: 112.7265\n",
            "Epoch [12/60], Loss: 112.7121\n",
            "Epoch [13/60], Loss: 109.4696\n",
            "Epoch [14/60], Loss: 109.8536\n",
            "Epoch [15/60], Loss: 107.9361\n",
            "Epoch [16/60], Loss: 103.9965\n",
            "Epoch [17/60], Loss: 100.2339\n",
            "Epoch [18/60], Loss: 96.4367\n",
            "Epoch [19/60], Loss: 91.9261\n",
            "Epoch [20/60], Loss: 89.6992\n",
            "Epoch [21/60], Loss: 83.8279\n",
            "Epoch [22/60], Loss: 78.5919\n",
            "Epoch [23/60], Loss: 73.6360\n",
            "Epoch [24/60], Loss: 69.2679\n",
            "Epoch [25/60], Loss: 65.1489\n",
            "Epoch [26/60], Loss: 65.7871\n",
            "Epoch [27/60], Loss: 62.2794\n",
            "Epoch [28/60], Loss: 60.5919\n",
            "Epoch [29/60], Loss: 56.6947\n",
            "Epoch [30/60], Loss: 54.7425\n",
            "Epoch [31/60], Loss: 54.1074\n",
            "Epoch [32/60], Loss: 52.1582\n",
            "Epoch [33/60], Loss: 52.3118\n",
            "Epoch [34/60], Loss: 51.9443\n",
            "Epoch [35/60], Loss: 53.6479\n",
            "Epoch [36/60], Loss: 57.9250\n",
            "Epoch [37/60], Loss: 51.8858\n",
            "Epoch [38/60], Loss: 50.8287\n",
            "Epoch [39/60], Loss: 51.3854\n",
            "Epoch [40/60], Loss: 51.0742\n",
            "Epoch [41/60], Loss: 52.4279\n",
            "Epoch [42/60], Loss: 51.3152\n",
            "Epoch [43/60], Loss: 51.0984\n",
            "Epoch [44/60], Loss: 50.9318\n",
            "Epoch [45/60], Loss: 49.7945\n",
            "Epoch [46/60], Loss: 49.0916\n",
            "Epoch [47/60], Loss: 48.0872\n",
            "Epoch [48/60], Loss: 48.0994\n",
            "Epoch [49/60], Loss: 56.5082\n",
            "Epoch [50/60], Loss: 48.7973\n",
            "Epoch [51/60], Loss: 47.7370\n",
            "Epoch [52/60], Loss: 49.2433\n",
            "Epoch [53/60], Loss: 48.2643\n",
            "Epoch [54/60], Loss: 48.5332\n",
            "Epoch [55/60], Loss: 47.1826\n",
            "Epoch [56/60], Loss: 45.2839\n",
            "Epoch [57/60], Loss: 46.1944\n",
            "Epoch [58/60], Loss: 45.6086\n",
            "Epoch [59/60], Loss: 44.7947\n",
            "Epoch [60/60], Loss: 46.8758\n"
          ]
        }
      ]
    },
    {
      "cell_type": "code",
      "source": [
        "# Evaluate the model on the test set\n",
        "model.eval()  # Set the model to evaluation mode\n",
        "with torch.no_grad():  # Disable gradient computation for evaluation\n",
        "    y_true, y_pred = [], []  # Lists to store true and predicted values\n",
        "    for inputs, targets in test_loader:  # Loop over the test data batches\n",
        "        outputs = model(inputs)  # Perform a forward pass\n",
        "        y_true.extend(targets.numpy())  # Collect true values\n",
        "        y_pred.extend(outputs.numpy())  # Collect predicted values\n",
        "\n",
        "# Convert the true and predicted values to NumPy arrays for metric calculation\n",
        "y_true = np.array(y_true).flatten()  # Flatten the array for compatibility\n",
        "y_pred = np.array(y_pred).flatten()  # Flatten the array for compatibility\n",
        "\n",
        "# Calculate evaluation metrics\n",
        "mae = mean_absolute_error(y_true, y_pred)  # Mean Absolute Error\n",
        "r2 = r2_score(y_true, y_pred)  # R² score to measure goodness of fit\n",
        "\n",
        "# Print the evaluation metrics\n",
        "print(f\"Mean Absolute Error (MAE): {mae:.2f}\")\n",
        "print(f\"R² Score: {r2:.2f}\")\n",
        "\n",
        "# Display some sample predictions for inspection\n",
        "print(\"Sample predictions:\")\n",
        "for true, pred in zip(y_true[:10], y_pred[:10]):  # Loop over the first 10 samples\n",
        "    print(f\"True: {true:.2f}, Predicted: {pred:.2f}\")"
      ],
      "metadata": {
        "colab": {
          "base_uri": "https://localhost:8080/"
        },
        "id": "HqYRHLS9oz0Y",
        "outputId": "4576eab0-a827-4822-b6a9-973d1bcb57e0"
      },
      "execution_count": 8,
      "outputs": [
        {
          "output_type": "stream",
          "name": "stdout",
          "text": [
            "Mean Absolute Error (MAE): 4.89\n",
            "R² Score: 0.86\n",
            "Sample predictions:\n",
            "True: 27.66, Predicted: 33.91\n",
            "True: 29.93, Predicted: 20.41\n",
            "True: 56.34, Predicted: 60.94\n",
            "True: 26.74, Predicted: 34.92\n",
            "True: 9.01, Predicted: 19.58\n",
            "True: 50.70, Predicted: 59.17\n",
            "True: 37.42, Predicted: 40.14\n",
            "True: 67.70, Predicted: 58.22\n",
            "True: 31.54, Predicted: 35.83\n",
            "True: 19.99, Predicted: 24.41\n"
          ]
        }
      ]
    },
    {
      "cell_type": "code",
      "source": [
        "import torch\n",
        "\n",
        "# Assuming 'model' is your trained PyTorch model\n",
        "torch.save(model.state_dict(), './model.pth')\n",
        "\n",
        "print(\"Model saved successfully as 'model.pth'\")\n"
      ],
      "metadata": {
        "colab": {
          "base_uri": "https://localhost:8080/"
        },
        "id": "ipbnxK6fGtqV",
        "outputId": "598bbbf2-cb58-49bb-ac27-33267b114f0b"
      },
      "execution_count": 10,
      "outputs": [
        {
          "output_type": "stream",
          "name": "stdout",
          "text": [
            "Model saved successfully as 'model.pth'\n"
          ]
        }
      ]
    }
  ]
}